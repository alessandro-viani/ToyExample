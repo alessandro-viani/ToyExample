{
 "cells": [
  {
   "cell_type": "code",
   "execution_count": 1,
   "metadata": {
    "collapsed": true
   },
   "outputs": [],
   "source": [
    "import pickle\n",
    "\n",
    "import matplotlib.pyplot as plt\n",
    "import numpy as np\n",
    "import seaborn as sns\n",
    "\n",
    "from Posterior import Posterior\n",
    "from Util import creation_data"
   ]
  },
  {
   "cell_type": "code",
   "execution_count": 2,
   "outputs": [],
   "source": [
    "n_times = 10\n",
    "theta_true = 0.01\n",
    "cfg = {'n_particles': 20, 'theta_eff': 0.5 * theta_true, 'sourcespace': None, 'data': None,\n",
    "       'n_bins': 50, 'sequence_evolution': None, 'method': 'PM', 'verbose': False}\n",
    "sns.set_style('darkgrid')\n",
    "verbose = False"
   ],
   "metadata": {
    "collapsed": false
   }
  },
  {
   "cell_type": "code",
   "execution_count": 3,
   "outputs": [],
   "source": [
    "for j in range(n_times):\n",
    "    sourcespace, data = creation_data(n_data=50, theta=theta_true)\n",
    "    with open(f'data/data_unbiased_{j}.pkl', 'wb') as f:\n",
    "        pickle.dump([sourcespace, data, theta_true], f)"
   ],
   "metadata": {
    "collapsed": false
   }
  },
  {
   "cell_type": "code",
   "execution_count": 4,
   "outputs": [
    {
     "name": "stdout",
     "output_type": "stream",
     "text": [
      "0 - number of particles set at: 20\n",
      "number of bins for MAP estimate set at: 50\n",
      "number of iteration set at: None\n",
      "method: PM\n",
      "verbose: False\n",
      "1 - number of particles set at: 20\n",
      "number of bins for MAP estimate set at: 50\n",
      "number of iteration set at: None\n",
      "method: PM\n",
      "verbose: False\n"
     ]
    },
    {
     "name": "stderr",
     "output_type": "stream",
     "text": [
      "/Users/ale/Documents/phd/toy_example/Posterior.py:111: RuntimeWarning: invalid value encountered in true_divide\n",
      "  weight = np.divide(weight_u, np.sum(weight_u))\n",
      "/Users/ale/Documents/phd/toy_example/Particle.py:76: RuntimeWarning: invalid value encountered in double_scalars\n",
      "  rapp_like = part_aux.like / self.like\n",
      "/Users/ale/Documents/phd/toy_example/Posterior.py:299: RuntimeWarning: invalid value encountered in true_divide\n",
      "  self.theta_posterior /= integral\n"
     ]
    },
    {
     "name": "stdout",
     "output_type": "stream",
     "text": [
      "2 - number of particles set at: 20\n",
      "number of bins for MAP estimate set at: 50\n",
      "number of iteration set at: None\n",
      "method: PM\n",
      "verbose: False\n",
      "3 - number of particles set at: 20\n",
      "number of bins for MAP estimate set at: 50\n",
      "number of iteration set at: None\n",
      "method: PM\n",
      "verbose: False\n",
      "4 - number of particles set at: 20\n",
      "number of bins for MAP estimate set at: 50\n",
      "number of iteration set at: None\n",
      "method: PM\n",
      "verbose: False\n",
      "5 - number of particles set at: 20\n",
      "number of bins for MAP estimate set at: 50\n",
      "number of iteration set at: None\n",
      "method: PM\n",
      "verbose: False\n",
      "6 - number of particles set at: 20\n",
      "number of bins for MAP estimate set at: 50\n",
      "number of iteration set at: None\n",
      "method: PM\n",
      "verbose: False\n",
      "7 - number of particles set at: 20\n",
      "number of bins for MAP estimate set at: 50\n",
      "number of iteration set at: None\n",
      "method: PM\n",
      "verbose: False\n",
      "8 - number of particles set at: 20\n",
      "number of bins for MAP estimate set at: 50\n",
      "number of iteration set at: None\n",
      "method: PM\n",
      "verbose: False\n",
      "9 - number of particles set at: 20\n",
      "number of bins for MAP estimate set at: 50\n",
      "number of iteration set at: None\n",
      "method: PM\n",
      "verbose: False\n"
     ]
    }
   ],
   "source": [
    "ml_theta = np.zeros(n_times)\n",
    "for _t in range(n_times):\n",
    "    print(f'{_t} - ', end='')\n",
    "    with open(f'data/data_unbiased_{_t}.pkl', 'rb') as f:\n",
    "        cfg['sourcespace'], cfg['data'], useless = pickle.load(f)\n",
    "    post_pm = Posterior(cfg=cfg)\n",
    "    post_pm = post_pm.perform_smc()\n",
    "    with open(f'sol/sol_pm_unbiased_{_t}.pkl', 'wb') as f:\n",
    "        pickle.dump(post_pm, f)\n",
    "\n",
    "    ml_theta[_t] = post_pm.ml_theta\n",
    "\n",
    "with open('sol/ml_theta.pkl', 'wb') as f:\n",
    "    pickle.dump(ml_theta, f)"
   ],
   "metadata": {
    "collapsed": false
   }
  },
  {
   "cell_type": "markdown",
   "source": [
    "PLOT"
   ],
   "metadata": {
    "collapsed": false
   }
  },
  {
   "cell_type": "code",
   "execution_count": 6,
   "outputs": [
    {
     "data": {
      "text/plain": "<Figure size 432x288 with 1 Axes>",
      "image/png": "[encoded data removed]"
     },
     "metadata": {},
     "output_type": "display_data"
    }
   ],
   "source": [
    "with open('sol/ml_theta.pkl', 'rb') as f:\n",
    "    ml_theta = pickle.load(f)\n",
    "\n",
    "plt.plot(figsize=(16, 9))\n",
    "sns.histplot(ml_theta - theta_true, bins=10)\n",
    "plt.tight_layout()\n",
    "plt.title(f'mean error: {1 / n_times * np.sum(ml_theta - theta_true)}')\n",
    "plt.savefig('fig/test_unbiased.png', dpi=100)\n",
    "plt.show()"
   ],
   "metadata": {
    "collapsed": false
   }
  }
 ],
 "metadata": {
  "kernelspec": {
   "display_name": "Python 3",
   "language": "python",
   "name": "python3"
  },
  "language_info": {
   "codemirror_mode": {
    "name": "ipython",
    "version": 2
   },
   "file_extension": ".py",
   "mimetype": "text/x-python",
   "name": "python",
   "nbconvert_exporter": "python",
   "pygments_lexer": "ipython2",
   "version": "2.7.6"
  }
 },
 "nbformat": 4,
 "nbformat_minor": 0
}
